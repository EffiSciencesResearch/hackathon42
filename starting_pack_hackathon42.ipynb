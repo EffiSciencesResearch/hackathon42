{
 "cells": [
  {
   "cell_type": "markdown",
   "metadata": {},
   "source": [
    "\n",
    "<a href=\"https://github.com/EffiSciencesResearch/hackathon42/blob/main/starting_pack_hackathon42.ipynb\" target=\"_parent\"><img src=\"https://colab.research.google.com/assets/colab-badge.svg\" alt=\"Open In Colab\"/></a>\n"
   ]
  },
  {
   "cell_type": "code",
   "execution_count": 4,
   "metadata": {},
   "outputs": [
    {
     "name": "stdout",
     "output_type": "stream",
     "text": [
      "Updated Git hooks.\n",
      "Git LFS initialized.\n",
      "Cloning into 'hackathon42'...\n",
      "remote: Repository not found.\n",
      "fatal: repository 'https://github.com/EffiSciencesResearch/hackathon42.git/' not found\n",
      "zsh:cd:1: no such file or directory: hackathon42\n"
     ]
    }
   ],
   "source": [
    "# This can take a moment\n",
    "# Please install git large file system before cloning\n",
    "!git lfs install\n",
    "!git clone https://github.com/EffiSciencesResearch/hackathon42.git\n",
    "!cd hackathon42"
   ]
  },
  {
   "cell_type": "code",
   "execution_count": 5,
   "metadata": {},
   "outputs": [
    {
     "name": "stdout",
     "output_type": "stream",
     "text": [
      "datasets/5_mnist_constant_image\n"
     ]
    }
   ],
   "source": [
    "import numpy as np\n",
    "from tqdm.notebook import tqdm\n",
    "import os\n",
    "from os.path import join\n",
    "from sklearn.model_selection import train_test_split\n",
    "import torch\n",
    "import torch.nn as nn\n",
    "import torch.nn.functional as F\n",
    "\n",
    "use_cuda = False\n",
    "device = torch.device(\"cuda\" if use_cuda else \"cpu\")\n",
    "\n",
    "datasets_names = os.listdir(path='datasets')\n",
    "\n",
    "# You can choose the dataset here by modifying the brackets\n",
    "dataset_name = join('datasets', datasets_names[1])\n",
    "print(dataset_name)\n",
    "\n",
    "X_labeled = np.load(join(dataset_name, \"X_labeled.npy\"))\n",
    "y_labeled = np.load(join(dataset_name, \"y_labeled.npy\"))\n",
    "X_unlabeled = np.load(join(dataset_name, \"X_unlabeled.npy\"))\n",
    "X_val = np.load(join(dataset_name, \"X_val.npy\"))\n",
    "\n",
    "\n",
    "X_train, X_test, y_train, y_test = train_test_split(X_labeled, y_labeled)\n",
    "\n",
    "\n",
    "X_train = torch.tensor(X_train, device=device).float()\n",
    "X_test = torch.tensor(X_test, device=device).float()\n",
    "y_train = torch.tensor(y_train, device=device)\n",
    "y_test = torch.tensor(y_test, device=device)"
   ]
  },
  {
   "cell_type": "code",
   "execution_count": 6,
   "metadata": {},
   "outputs": [],
   "source": [
    "class LeNet(nn.Module):\n",
    "    def __init__(self, n_classes=10):\n",
    "        super().__init__()       \n",
    "        \n",
    "        self.conv1 = nn.Conv2d(1, 16, 5)\n",
    "        self.conv2 = nn.Conv2d(16, 32, 5)\n",
    "        self.fc1 = nn.Linear(32*4*11, 100)\n",
    "        self.fc2 = nn.Linear(100, 10)\n",
    "        self.flat = nn.Flatten()\n",
    "        \n",
    "    def forward(self, x):\n",
    "        \n",
    "        # Max pooling over a (2, 2) window\n",
    "        out = F.max_pool2d(F.relu(self.conv1(x)), (2, 2))\n",
    "        # If the size is a square you can only specify a single number\n",
    "        out = F.max_pool2d(F.relu(self.conv2(out)), 2)\n",
    "        out = self.flat(out)\n",
    "        # out = F.dropout(out, 0.5)\n",
    "        out = F.relu(self.fc1(out))\n",
    "        # out = F.dropout(out, 0.25)\n",
    "        pred = self.fc2(out)\n",
    "        \n",
    "        return pred\n",
    "\n",
    "net = LeNet().float()"
   ]
  },
  {
   "cell_type": "code",
   "execution_count": 7,
   "metadata": {},
   "outputs": [
    {
     "data": {
      "application/vnd.jupyter.widget-view+json": {
       "model_id": "e0e9b5fd2a344157bda4494bf0a9cbdd",
       "version_major": 2,
       "version_minor": 0
      },
      "text/plain": [
       "  0%|          | 0/20 [00:00<?, ?it/s]"
      ]
     },
     "metadata": {},
     "output_type": "display_data"
    },
    {
     "name": "stdout",
     "output_type": "stream",
     "text": [
      "acc train: 0.7431578947368421 acc test: 1.0\n",
      "acc train: 0.9473684210526315 acc test: 1.0\n",
      "acc train: 0.9473684210526315 acc test: 1.0\n",
      "acc train: 0.9473684210526315 acc test: 1.0\n",
      "acc train: 0.9473684210526315 acc test: 1.0\n",
      "acc train: 0.9473684210526315 acc test: 1.0\n",
      "acc train: 0.9473684210526315 acc test: 1.0\n",
      "acc train: 0.9473684210526315 acc test: 1.0\n",
      "acc train: 0.9473684210526315 acc test: 1.0\n",
      "acc train: 0.9473684210526315 acc test: 1.0\n",
      "acc train: 0.9473684210526315 acc test: 1.0\n",
      "acc train: 0.9473684210526315 acc test: 1.0\n",
      "acc train: 0.9473684210526315 acc test: 1.0\n",
      "acc train: 0.9473684210526315 acc test: 1.0\n",
      "acc train: 0.9473684210526315 acc test: 1.0\n",
      "acc train: 0.9473684210526315 acc test: 1.0\n",
      "acc train: 0.9473684210526315 acc test: 1.0\n",
      "acc train: 0.9473684210526315 acc test: 1.0\n",
      "acc train: 0.9473684210526315 acc test: 1.0\n",
      "acc train: 0.9473684210526315 acc test: 1.0\n"
     ]
    }
   ],
   "source": [
    "tbatch = 100\n",
    "nb_epochs = 20\n",
    "\n",
    "nbbatchs = int(X_train.shape[0]/tbatch)\n",
    "\n",
    "criterion = nn.CrossEntropyLoss()\n",
    "optimizer = torch.optim.Adam(net.parameters(), lr=0.01)\n",
    "\n",
    "net.train()\n",
    "\n",
    "def evaluate(X_test):\n",
    "    net.eval()\n",
    "    with torch.no_grad():\n",
    "        y_pred = net(X_test)\n",
    "    correct_test = (torch.argmax(y_pred, axis=1) == y_test).sum().item()\n",
    "    net.train()\n",
    "    return correct_test/len(X_test)\n",
    "\n",
    "for epoch in tqdm(range(nb_epochs)):  # loop over the dataset multiple times\n",
    "    correct = 0\n",
    "    for i in (range(nbbatchs)):\n",
    "        \n",
    "        optimizer.zero_grad()\n",
    "        \n",
    "        X_batch = X_train[i*tbatch:(i+1)*tbatch]\n",
    "        y_batch = y_train[i*tbatch:(i+1)*tbatch]\n",
    "\n",
    "        # Compute forward / backward\n",
    "        y_pred = net(X_batch)\n",
    "        correct += (torch.argmax(y_pred, axis=1) == y_batch).sum().item()\n",
    "\n",
    "        loss = criterion(y_pred, y_batch)\n",
    "        \n",
    "\n",
    "        loss.backward()\n",
    "        optimizer.step()\n",
    "        # break\n",
    "    print(\"acc train:\", correct/X_train.shape[0], \"acc test:\", evaluate(X_test))\n",
    "\n",
    "\n"
   ]
  },
  {
   "cell_type": "code",
   "execution_count": null,
   "metadata": {},
   "outputs": [],
   "source": []
  },
  {
   "cell_type": "code",
   "execution_count": null,
   "metadata": {},
   "outputs": [],
   "source": []
  }
 ],
 "metadata": {
  "interpreter": {
   "hash": "42b2a254b437d073428198f9d7f7f7b39e947fe8479260fb8edd61ecc9f401a1"
  },
  "kernelspec": {
   "display_name": "Python 3.7.13 ('hackathon42')",
   "language": "python",
   "name": "python3"
  },
  "language_info": {
   "codemirror_mode": {
    "name": "ipython",
    "version": 3
   },
   "file_extension": ".py",
   "mimetype": "text/x-python",
   "name": "python",
   "nbconvert_exporter": "python",
   "pygments_lexer": "ipython3",
   "version": "3.7.13"
  },
  "orig_nbformat": 4
 },
 "nbformat": 4,
 "nbformat_minor": 2
}
